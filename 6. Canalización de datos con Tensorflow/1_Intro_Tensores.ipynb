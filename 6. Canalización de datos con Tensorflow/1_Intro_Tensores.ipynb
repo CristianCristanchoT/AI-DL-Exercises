{
 "cells": [
  {
   "cell_type": "markdown",
   "id": "8b830a43",
   "metadata": {},
   "source": [
    "# Introducción a los tensores con Tensorflow y Numpy"
   ]
  },
  {
   "cell_type": "code",
   "execution_count": 1,
   "id": "6e844d98",
   "metadata": {},
   "outputs": [],
   "source": [
    "import tensorflow as tf\n",
    "import numpy as np"
   ]
  },
  {
   "cell_type": "markdown",
   "id": "d2a5e8da",
   "metadata": {},
   "source": [
    "Esenciales"
   ]
  },
  {
   "cell_type": "code",
   "execution_count": 2,
   "id": "6d838c46",
   "metadata": {},
   "outputs": [
    {
     "name": "stdout",
     "output_type": "stream",
     "text": [
      "tf.Tensor(7, shape=(), dtype=int32)\n"
     ]
    }
   ],
   "source": [
    "t0 = tf.constant(7)\n",
    "print(t0)"
   ]
  },
  {
   "cell_type": "code",
   "execution_count": 4,
   "id": "f92441bd",
   "metadata": {},
   "outputs": [
    {
     "name": "stdout",
     "output_type": "stream",
     "text": [
      "tf.Tensor([1 5 9], shape=(3,), dtype=int32)\n"
     ]
    }
   ],
   "source": [
    "t1 = tf.constant([1,5,9])\n",
    "print(t1)"
   ]
  },
  {
   "cell_type": "code",
   "execution_count": 9,
   "id": "6a0c54ba",
   "metadata": {},
   "outputs": [
    {
     "name": "stdout",
     "output_type": "stream",
     "text": [
      "tf.Tensor(\n",
      "[[1 2 2]\n",
      " [3 4 5]], shape=(2, 3), dtype=int32)\n"
     ]
    }
   ],
   "source": [
    "t2 = tf.constant([[1,2,2],[3,4,5]])\n",
    "print(t2)"
   ]
  },
  {
   "cell_type": "code",
   "execution_count": 12,
   "id": "1e178f15",
   "metadata": {},
   "outputs": [
    {
     "name": "stdout",
     "output_type": "stream",
     "text": [
      "tf.Tensor(\n",
      "[[[1 1]]\n",
      "\n",
      " [[2 2]]\n",
      "\n",
      " [[3 3]]], shape=(3, 1, 2), dtype=int32)\n"
     ]
    }
   ],
   "source": [
    "t3 = tf.constant([[[1,1]],[[2,2]],[[3,3]]])\n",
    "print(t3)"
   ]
  },
  {
   "cell_type": "code",
   "execution_count": 14,
   "id": "74d004c1",
   "metadata": {},
   "outputs": [
    {
     "data": {
      "text/plain": [
       "array([[[1, 1]],\n",
       "\n",
       "       [[2, 2]],\n",
       "\n",
       "       [[3, 3]]])"
      ]
     },
     "execution_count": 14,
     "metadata": {},
     "output_type": "execute_result"
    }
   ],
   "source": [
    "t3.numpy()"
   ]
  },
  {
   "cell_type": "code",
   "execution_count": 16,
   "id": "0b7db55b",
   "metadata": {},
   "outputs": [
    {
     "data": {
      "text/plain": [
       "(3, 1, 2)"
      ]
     },
     "execution_count": 16,
     "metadata": {},
     "output_type": "execute_result"
    }
   ],
   "source": [
    "t3.numpy().shape"
   ]
  },
  {
   "cell_type": "code",
   "execution_count": 17,
   "id": "7e58fe95",
   "metadata": {},
   "outputs": [
    {
     "data": {
      "text/plain": [
       "TensorShape([3, 1, 2])"
      ]
     },
     "execution_count": 17,
     "metadata": {},
     "output_type": "execute_result"
    }
   ],
   "source": [
    "t3.shape"
   ]
  },
  {
   "cell_type": "markdown",
   "id": "422af37f",
   "metadata": {},
   "source": [
    "Algebra de tensores"
   ]
  },
  {
   "cell_type": "code",
   "execution_count": 18,
   "id": "c01dea7c",
   "metadata": {},
   "outputs": [
    {
     "name": "stdout",
     "output_type": "stream",
     "text": [
      "tf.Tensor(\n",
      "[[1 2]\n",
      " [3 4]], shape=(2, 2), dtype=int32)\n",
      "tf.Tensor(\n",
      "[[5 6]\n",
      " [7 8]], shape=(2, 2), dtype=int32)\n"
     ]
    }
   ],
   "source": [
    "a = tf.constant([[1,2],[3,4]])\n",
    "b = tf.constant([[5,6],[7,8]])\n",
    "print(a)\n",
    "print(b)"
   ]
  },
  {
   "cell_type": "code",
   "execution_count": 20,
   "id": "2c60901c",
   "metadata": {},
   "outputs": [
    {
     "name": "stdout",
     "output_type": "stream",
     "text": [
      "tf.Tensor(\n",
      "[[ 6  8]\n",
      " [10 12]], shape=(2, 2), dtype=int32)\n"
     ]
    }
   ],
   "source": [
    "print(tf.add(a,b))"
   ]
  },
  {
   "cell_type": "code",
   "execution_count": 21,
   "id": "6e7feddc",
   "metadata": {},
   "outputs": [
    {
     "name": "stdout",
     "output_type": "stream",
     "text": [
      "tf.Tensor(\n",
      "[[ 5 12]\n",
      " [21 32]], shape=(2, 2), dtype=int32)\n"
     ]
    }
   ],
   "source": [
    "print(tf.multiply(a,b))"
   ]
  },
  {
   "cell_type": "code",
   "execution_count": 22,
   "id": "218f36ba",
   "metadata": {},
   "outputs": [
    {
     "name": "stdout",
     "output_type": "stream",
     "text": [
      "tf.Tensor(\n",
      "[[19 22]\n",
      " [43 50]], shape=(2, 2), dtype=int32)\n"
     ]
    }
   ],
   "source": [
    "print(tf.matmul(a,b))"
   ]
  },
  {
   "cell_type": "code",
   "execution_count": 23,
   "id": "c9087d2e",
   "metadata": {},
   "outputs": [
    {
     "name": "stdout",
     "output_type": "stream",
     "text": [
      "tf.Tensor(\n",
      "[[23 34]\n",
      " [31 46]], shape=(2, 2), dtype=int32)\n"
     ]
    }
   ],
   "source": [
    "print(tf.matmul(b,a))"
   ]
  },
  {
   "cell_type": "code",
   "execution_count": 24,
   "id": "42f13818",
   "metadata": {},
   "outputs": [
    {
     "name": "stdout",
     "output_type": "stream",
     "text": [
      "tf.Tensor(\n",
      "[[ 6  8]\n",
      " [10 12]], shape=(2, 2), dtype=int32)\n"
     ]
    }
   ],
   "source": [
    "print(a+b)"
   ]
  },
  {
   "cell_type": "code",
   "execution_count": 25,
   "id": "93b88de6",
   "metadata": {},
   "outputs": [
    {
     "name": "stdout",
     "output_type": "stream",
     "text": [
      "tf.Tensor(\n",
      "[[ 5 12]\n",
      " [21 32]], shape=(2, 2), dtype=int32)\n"
     ]
    }
   ],
   "source": [
    "print(a*b)"
   ]
  },
  {
   "cell_type": "code",
   "execution_count": 26,
   "id": "43a3b5b8",
   "metadata": {},
   "outputs": [
    {
     "name": "stdout",
     "output_type": "stream",
     "text": [
      "tf.Tensor(\n",
      "[[19 22]\n",
      " [43 50]], shape=(2, 2), dtype=int32)\n"
     ]
    }
   ],
   "source": [
    "print(a@b)"
   ]
  },
  {
   "cell_type": "markdown",
   "id": "da5eefdb",
   "metadata": {},
   "source": [
    "Funciones de reduccion"
   ]
  },
  {
   "cell_type": "code",
   "execution_count": 27,
   "id": "9a63cc29",
   "metadata": {},
   "outputs": [
    {
     "name": "stdout",
     "output_type": "stream",
     "text": [
      "tf.Tensor(\n",
      "[[ 4  5]\n",
      " [10  1]], shape=(2, 2), dtype=int32)\n"
     ]
    }
   ],
   "source": [
    "c = tf.constant([[4,5],[10,1]])\n",
    "print(c)"
   ]
  },
  {
   "cell_type": "code",
   "execution_count": 28,
   "id": "ec84347a",
   "metadata": {},
   "outputs": [
    {
     "name": "stdout",
     "output_type": "stream",
     "text": [
      "tf.Tensor(10, shape=(), dtype=int32)\n"
     ]
    }
   ],
   "source": [
    "print(tf.reduce_max(c))"
   ]
  },
  {
   "cell_type": "code",
   "execution_count": 29,
   "id": "e14f7e90",
   "metadata": {},
   "outputs": [
    {
     "name": "stdout",
     "output_type": "stream",
     "text": [
      "tf.Tensor(1, shape=(), dtype=int32)\n"
     ]
    }
   ],
   "source": [
    "print(tf.reduce_min(c))"
   ]
  },
  {
   "cell_type": "code",
   "execution_count": 31,
   "id": "c6b71dea",
   "metadata": {},
   "outputs": [
    {
     "name": "stdout",
     "output_type": "stream",
     "text": [
      "tf.Tensor(5, shape=(), dtype=int32)\n"
     ]
    }
   ],
   "source": [
    "print(tf.reduce_mean(c))"
   ]
  },
  {
   "cell_type": "code",
   "execution_count": 32,
   "id": "85e6d541",
   "metadata": {},
   "outputs": [
    {
     "name": "stdout",
     "output_type": "stream",
     "text": [
      "tf.Tensor([1 0], shape=(2,), dtype=int64)\n"
     ]
    }
   ],
   "source": [
    "print(tf.argmax(c))"
   ]
  },
  {
   "cell_type": "code",
   "execution_count": 37,
   "id": "0ce0b407",
   "metadata": {},
   "outputs": [
    {
     "name": "stdout",
     "output_type": "stream",
     "text": [
      "tf.Tensor(\n",
      "[[2.690e-01 7.310e-01]\n",
      " [1.000e+00 1.234e-04]], shape=(2, 2), dtype=float16)\n"
     ]
    }
   ],
   "source": [
    "print(tf.nn.softmax(tf.dtypes.cast(c, tf.float16)))"
   ]
  },
  {
   "cell_type": "code",
   "execution_count": 38,
   "id": "28adb4dd",
   "metadata": {},
   "outputs": [
    {
     "name": "stdout",
     "output_type": "stream",
     "text": [
      "tf.Tensor(2.0, shape=(), dtype=float16)\n"
     ]
    }
   ],
   "source": [
    "print(tf.reduce_sum(tf.nn.softmax(tf.dtypes.cast(c, tf.float16))))"
   ]
  },
  {
   "cell_type": "code",
   "execution_count": 39,
   "id": "9849d0a9",
   "metadata": {},
   "outputs": [
    {
     "name": "stdout",
     "output_type": "stream",
     "text": [
      "tf.Tensor([1.27  0.731], shape=(2,), dtype=float16)\n"
     ]
    }
   ],
   "source": [
    "print(tf.reduce_sum(tf.nn.softmax(tf.dtypes.cast(c, tf.float16)),axis=0))"
   ]
  },
  {
   "cell_type": "code",
   "execution_count": 40,
   "id": "205f16e8",
   "metadata": {},
   "outputs": [
    {
     "name": "stdout",
     "output_type": "stream",
     "text": [
      "tf.Tensor([1. 1.], shape=(2,), dtype=float16)\n"
     ]
    }
   ],
   "source": [
    "print(tf.reduce_sum(tf.nn.softmax(tf.dtypes.cast(c, tf.float16)),axis=1))"
   ]
  },
  {
   "cell_type": "markdown",
   "id": "eabae2e2",
   "metadata": {},
   "source": [
    "Tipo, forma y dimension"
   ]
  },
  {
   "cell_type": "code",
   "execution_count": 41,
   "id": "bac50d62",
   "metadata": {},
   "outputs": [
    {
     "name": "stdout",
     "output_type": "stream",
     "text": [
      "tf.Tensor(\n",
      "[[[ 0  1  2  3  4]\n",
      "  [ 5  6  7  8  9]]\n",
      "\n",
      " [[10 11 12 13 14]\n",
      "  [15 16 17 18 19]]\n",
      "\n",
      " [[20 21 22 23 24]\n",
      "  [25 26 27 28 29]]], shape=(3, 2, 5), dtype=int32)\n"
     ]
    }
   ],
   "source": [
    "t = tf.constant([\n",
    "  [[0, 1, 2, 3, 4],\n",
    "   [5, 6, 7, 8, 9]],\n",
    "  [[10, 11, 12, 13, 14],\n",
    "   [15, 16, 17, 18, 19]],\n",
    "  [[20, 21, 22, 23, 24],\n",
    "   [25, 26, 27, 28, 29]],])\n",
    "print(t)"
   ]
  },
  {
   "cell_type": "code",
   "execution_count": 43,
   "id": "55801b0f",
   "metadata": {},
   "outputs": [
    {
     "name": "stdout",
     "output_type": "stream",
     "text": [
      "<dtype: 'int32'>\n"
     ]
    }
   ],
   "source": [
    "print(t.dtype)"
   ]
  },
  {
   "cell_type": "code",
   "execution_count": 45,
   "id": "6a49261a",
   "metadata": {},
   "outputs": [
    {
     "name": "stdout",
     "output_type": "stream",
     "text": [
      "(3, 2, 5)\n"
     ]
    }
   ],
   "source": [
    "print(t.shape)"
   ]
  },
  {
   "cell_type": "code",
   "execution_count": 46,
   "id": "cbbe3d17",
   "metadata": {},
   "outputs": [
    {
     "name": "stdout",
     "output_type": "stream",
     "text": [
      "3\n"
     ]
    }
   ],
   "source": [
    "print(t.ndim)"
   ]
  },
  {
   "cell_type": "code",
   "execution_count": 47,
   "id": "f69464ac",
   "metadata": {},
   "outputs": [
    {
     "name": "stdout",
     "output_type": "stream",
     "text": [
      "5\n"
     ]
    }
   ],
   "source": [
    "print(t.shape[2])"
   ]
  },
  {
   "cell_type": "code",
   "execution_count": 48,
   "id": "3df9c25b",
   "metadata": {},
   "outputs": [
    {
     "name": "stdout",
     "output_type": "stream",
     "text": [
      "tf.Tensor(30, shape=(), dtype=int32)\n"
     ]
    }
   ],
   "source": [
    "print(tf.size(t.numpy()))"
   ]
  },
  {
   "cell_type": "markdown",
   "id": "ff998d42",
   "metadata": {},
   "source": [
    "Indexacion"
   ]
  },
  {
   "cell_type": "markdown",
   "id": "a084b065",
   "metadata": {},
   "source": [
    "En un solo eje"
   ]
  },
  {
   "cell_type": "code",
   "execution_count": 49,
   "id": "f63cd9f3",
   "metadata": {},
   "outputs": [
    {
     "name": "stdout",
     "output_type": "stream",
     "text": [
      "Primero:  tf.Tensor(0, shape=(), dtype=int32)\n",
      "Segundo:  tf.Tensor(1, shape=(), dtype=int32)\n",
      "Ultimo:  34\n"
     ]
    }
   ],
   "source": [
    "t1 =  tf.constant([0, 1, 1, 2, 3, 5, 8, 13, 21, 34])\n",
    "print(\"Primero: \", t1[0])\n",
    "print(\"Segundo: \", t1[1])\n",
    "print(\"Ultimo: \", t1[-1].numpy())"
   ]
  },
  {
   "cell_type": "markdown",
   "id": "e4654814",
   "metadata": {},
   "source": [
    "Extraccion de parte de un tensro: slides"
   ]
  },
  {
   "cell_type": "code",
   "execution_count": 50,
   "id": "4c784309",
   "metadata": {},
   "outputs": [
    {
     "name": "stdout",
     "output_type": "stream",
     "text": [
      "tf.Tensor([ 0  1  1  2  3  5  8 13 21 34], shape=(10,), dtype=int32)\n"
     ]
    }
   ],
   "source": [
    "print(t1[:])"
   ]
  },
  {
   "cell_type": "code",
   "execution_count": 56,
   "id": "958941dc",
   "metadata": {},
   "outputs": [
    {
     "name": "stdout",
     "output_type": "stream",
     "text": [
      "tf.Tensor([0 1 1 2], shape=(4,), dtype=int32)\n"
     ]
    }
   ],
   "source": [
    "print(t1[:4])"
   ]
  },
  {
   "cell_type": "code",
   "execution_count": 57,
   "id": "e95f6fe4",
   "metadata": {},
   "outputs": [
    {
     "name": "stdout",
     "output_type": "stream",
     "text": [
      "tf.Tensor([ 3  5  8 13 21 34], shape=(6,), dtype=int32)\n"
     ]
    }
   ],
   "source": [
    "print(t1[4:])"
   ]
  },
  {
   "cell_type": "code",
   "execution_count": 58,
   "id": "f717e30c",
   "metadata": {},
   "outputs": [
    {
     "name": "stdout",
     "output_type": "stream",
     "text": [
      "tf.Tensor([3 5 8], shape=(3,), dtype=int32)\n"
     ]
    }
   ],
   "source": [
    "print(t1[4:7])"
   ]
  },
  {
   "cell_type": "code",
   "execution_count": 60,
   "id": "c3f747fa",
   "metadata": {},
   "outputs": [
    {
     "name": "stdout",
     "output_type": "stream",
     "text": [
      "tf.Tensor([ 0  1  3  8 21], shape=(5,), dtype=int32)\n"
     ]
    }
   ],
   "source": [
    "print(t1[::2])"
   ]
  },
  {
   "cell_type": "code",
   "execution_count": 61,
   "id": "4cc77fca",
   "metadata": {},
   "outputs": [
    {
     "name": "stdout",
     "output_type": "stream",
     "text": [
      "tf.Tensor([34 21 13  8  5  3  2  1  1  0], shape=(10,), dtype=int32)\n"
     ]
    }
   ],
   "source": [
    "print(t1[::-1])"
   ]
  },
  {
   "cell_type": "markdown",
   "id": "b338bef0",
   "metadata": {},
   "source": [
    "Indexacion multieje"
   ]
  },
  {
   "cell_type": "code",
   "execution_count": 62,
   "id": "306d67f8",
   "metadata": {},
   "outputs": [
    {
     "name": "stdout",
     "output_type": "stream",
     "text": [
      "[[1 2 3]\n",
      " [4 5 6]]\n"
     ]
    }
   ],
   "source": [
    "\n",
    "t23 = tf.constant([[1, 2, 3],[4, 5, 6]])\n",
    "print(t23.numpy())"
   ]
  },
  {
   "cell_type": "code",
   "execution_count": 63,
   "id": "4bcd90ba",
   "metadata": {},
   "outputs": [
    {
     "name": "stdout",
     "output_type": "stream",
     "text": [
      "5\n"
     ]
    }
   ],
   "source": [
    "print(t23[1,1].numpy())"
   ]
  },
  {
   "cell_type": "code",
   "execution_count": 73,
   "id": "b8755d8a",
   "metadata": {},
   "outputs": [
    {
     "name": "stdout",
     "output_type": "stream",
     "text": [
      "[4 5 6]\n"
     ]
    }
   ],
   "source": [
    "print(t23[1,:].numpy())"
   ]
  },
  {
   "cell_type": "code",
   "execution_count": 77,
   "id": "85aa41e8",
   "metadata": {},
   "outputs": [
    {
     "name": "stdout",
     "output_type": "stream",
     "text": [
      "[3 6]\n"
     ]
    }
   ],
   "source": [
    "print(t23[:,2].numpy())"
   ]
  },
  {
   "cell_type": "code",
   "execution_count": 85,
   "id": "81a6ce8a",
   "metadata": {},
   "outputs": [
    {
     "name": "stdout",
     "output_type": "stream",
     "text": [
      "[[1 2]\n",
      " [4 5]]\n"
     ]
    }
   ],
   "source": [
    "print(t23[:,0:2].numpy())"
   ]
  },
  {
   "cell_type": "code",
   "execution_count": 93,
   "id": "53e9737e",
   "metadata": {},
   "outputs": [
    {
     "name": "stdout",
     "output_type": "stream",
     "text": [
      "[[1 2]\n",
      " [4 5]]\n"
     ]
    }
   ],
   "source": [
    "print(t23[:,:2].numpy())"
   ]
  },
  {
   "cell_type": "code",
   "execution_count": 94,
   "id": "7f2a39c4",
   "metadata": {},
   "outputs": [
    {
     "name": "stdout",
     "output_type": "stream",
     "text": [
      "[[[ 0  1  2  3  4]\n",
      "  [ 5  6  7  8  9]]\n",
      "\n",
      " [[10 11 12 13 14]\n",
      "  [15 16 17 18 19]]\n",
      "\n",
      " [[20 21 22 23 24]\n",
      "  [25 26 27 28 29]]]\n"
     ]
    }
   ],
   "source": [
    "t = tf.constant([\n",
    "  [[0, 1, 2, 3, 4],\n",
    "   [5, 6, 7, 8, 9]],\n",
    "  [[10, 11, 12, 13, 14],\n",
    "   [15, 16, 17, 18, 19]],\n",
    "  [[20, 21, 22, 23, 24],\n",
    "   [25, 26, 27, 28, 29]],]) \n",
    "print(t.numpy())"
   ]
  },
  {
   "cell_type": "code",
   "execution_count": 96,
   "id": "07fc28c4",
   "metadata": {},
   "outputs": [
    {
     "name": "stdout",
     "output_type": "stream",
     "text": [
      "[[10 11 12 13 14]\n",
      " [15 16 17 18 19]]\n"
     ]
    }
   ],
   "source": [
    "print(t[1,:,:].numpy())"
   ]
  },
  {
   "cell_type": "code",
   "execution_count": 97,
   "id": "f7dceeec",
   "metadata": {},
   "outputs": [
    {
     "name": "stdout",
     "output_type": "stream",
     "text": [
      "[[10 11 12 13 14]\n",
      " [15 16 17 18 19]]\n"
     ]
    }
   ],
   "source": [
    "print(t[1].numpy())"
   ]
  },
  {
   "cell_type": "code",
   "execution_count": 102,
   "id": "09586196",
   "metadata": {},
   "outputs": [
    {
     "name": "stdout",
     "output_type": "stream",
     "text": [
      "[[21 22]\n",
      " [26 27]]\n"
     ]
    }
   ],
   "source": [
    "print(t[2,:,1:3].numpy())"
   ]
  },
  {
   "cell_type": "markdown",
   "id": "7d87cdaf",
   "metadata": {},
   "source": [
    "Manipular formas"
   ]
  },
  {
   "cell_type": "code",
   "execution_count": 103,
   "id": "ec857ad5",
   "metadata": {},
   "outputs": [
    {
     "name": "stdout",
     "output_type": "stream",
     "text": [
      "tf.Tensor(\n",
      "[[1]\n",
      " [2]\n",
      " [3]], shape=(3, 1), dtype=int32)\n"
     ]
    }
   ],
   "source": [
    "x = tf.constant([[1],[2],[3]])\n",
    "print(x)"
   ]
  },
  {
   "cell_type": "code",
   "execution_count": 104,
   "id": "dedbebdd",
   "metadata": {},
   "outputs": [
    {
     "name": "stdout",
     "output_type": "stream",
     "text": [
      "[3, 1]\n"
     ]
    }
   ],
   "source": [
    "print(x.shape.as_list())"
   ]
  },
  {
   "cell_type": "code",
   "execution_count": 105,
   "id": "3b0d6aaa",
   "metadata": {},
   "outputs": [
    {
     "name": "stdout",
     "output_type": "stream",
     "text": [
      "tf.Tensor([[1 2 3]], shape=(1, 3), dtype=int32)\n"
     ]
    }
   ],
   "source": [
    "reshaped = tf.reshape(x, [1,3])\n",
    "print(reshaped)"
   ]
  },
  {
   "cell_type": "markdown",
   "id": "fd62a574",
   "metadata": {},
   "source": [
    "Aplanar un tensor"
   ]
  },
  {
   "cell_type": "code",
   "execution_count": 106,
   "id": "19a20e1e",
   "metadata": {},
   "outputs": [
    {
     "name": "stdout",
     "output_type": "stream",
     "text": [
      "tf.Tensor(\n",
      "[[[ 0  1  2  3  4]\n",
      "  [ 5  6  7  8  9]]\n",
      "\n",
      " [[10 11 12 13 14]\n",
      "  [15 16 17 18 19]]\n",
      "\n",
      " [[20 21 22 23 24]\n",
      "  [25 26 27 28 29]]], shape=(3, 2, 5), dtype=int32)\n"
     ]
    }
   ],
   "source": [
    "print(t)"
   ]
  },
  {
   "cell_type": "code",
   "execution_count": 107,
   "id": "27d8602f",
   "metadata": {},
   "outputs": [
    {
     "name": "stdout",
     "output_type": "stream",
     "text": [
      "tf.Tensor(\n",
      "[ 0  1  2  3  4  5  6  7  8  9 10 11 12 13 14 15 16 17 18 19 20 21 22 23\n",
      " 24 25 26 27 28 29], shape=(30,), dtype=int32)\n"
     ]
    }
   ],
   "source": [
    "flat = tf.reshape(t,[-1])\n",
    "print(flat)"
   ]
  },
  {
   "cell_type": "code",
   "execution_count": 108,
   "id": "714635df",
   "metadata": {},
   "outputs": [
    {
     "name": "stdout",
     "output_type": "stream",
     "text": [
      "tf.Tensor(\n",
      "[[ 0  1  2  3  4  5  6  7  8  9 10 11 12 13 14]\n",
      " [15 16 17 18 19 20 21 22 23 24 25 26 27 28 29]], shape=(2, 15), dtype=int32)\n"
     ]
    }
   ],
   "source": [
    "print(tf.reshape(t,[2,3*5]))"
   ]
  },
  {
   "cell_type": "code",
   "execution_count": 113,
   "id": "0ddfd74a",
   "metadata": {},
   "outputs": [
    {
     "name": "stdout",
     "output_type": "stream",
     "text": [
      "tf.Tensor(\n",
      "[[ 0  1  2  3  4]\n",
      " [ 5  6  7  8  9]\n",
      " [10 11 12 13 14]\n",
      " [15 16 17 18 19]\n",
      " [20 21 22 23 24]\n",
      " [25 26 27 28 29]], shape=(6, 5), dtype=int32)\n"
     ]
    }
   ],
   "source": [
    "print(tf.reshape(t, [-1,5]))"
   ]
  },
  {
   "cell_type": "markdown",
   "id": "7d6e8969",
   "metadata": {},
   "source": [
    "Cast. Conversion de tipos"
   ]
  },
  {
   "cell_type": "code",
   "execution_count": 114,
   "id": "b6caebf8",
   "metadata": {},
   "outputs": [
    {
     "name": "stdout",
     "output_type": "stream",
     "text": [
      "tf.Tensor([2. 4. 6.], shape=(3,), dtype=float64)\n",
      "tf.Tensor([2. 4. 6.], shape=(3,), dtype=float16)\n",
      "tf.Tensor([2 4 6], shape=(3,), dtype=uint8)\n"
     ]
    }
   ],
   "source": [
    "f64_tensor = tf.constant([2.0, 4.0, 6.0], dtype = tf.float64)\n",
    "print(f64_tensor)\n",
    "\n",
    "f16_tensor = tf.cast(f64_tensor,dtype= tf.float16)\n",
    "print(f16_tensor)\n",
    "\n",
    "u8_tensor = tf.cast(f16_tensor, dtype = tf.uint8)\n",
    "print(u8_tensor)"
   ]
  },
  {
   "cell_type": "markdown",
   "id": "91044e72",
   "metadata": {},
   "source": [
    "Radiodifusión. Broadcasting"
   ]
  },
  {
   "cell_type": "code",
   "execution_count": 115,
   "id": "916ce728",
   "metadata": {},
   "outputs": [
    {
     "name": "stdout",
     "output_type": "stream",
     "text": [
      "tf.Tensor([2 4 6], shape=(3,), dtype=int32)\n",
      "tf.Tensor([2 4 6], shape=(3,), dtype=int32)\n",
      "tf.Tensor([2 4 6], shape=(3,), dtype=int32)\n"
     ]
    }
   ],
   "source": [
    "x = tf.constant([1, 2 ,3])\n",
    "y = tf.constant(2)\n",
    "z = tf.constant([2, 2 ,2])\n",
    "\n",
    "# el mismo resultado\n",
    "print(tf.multiply(x,2))\n",
    "print(x*y)\n",
    "print(x*z)"
   ]
  },
  {
   "cell_type": "markdown",
   "id": "cb71e4e2",
   "metadata": {},
   "source": [
    "Tensores irregulares"
   ]
  },
  {
   "cell_type": "code",
   "execution_count": 116,
   "id": "51c4aa16",
   "metadata": {},
   "outputs": [],
   "source": [
    "\n",
    "ragged_list = [\n",
    "    [0, 1, 2, 3],\n",
    "    [4, 5],\n",
    "    [6, 7, 8],\n",
    "    [9]]"
   ]
  },
  {
   "cell_type": "code",
   "execution_count": 117,
   "id": "482a34a8",
   "metadata": {},
   "outputs": [
    {
     "name": "stdout",
     "output_type": "stream",
     "text": [
      "ValueError: Can't convert non-rectangular Python sequence to Tensor.\n"
     ]
    }
   ],
   "source": [
    "try:\n",
    "    tensor = tf.constant(ragged_list)\n",
    "except Exception as e:\n",
    "     print(f\"{type(e).__name__}: {e}\")"
   ]
  },
  {
   "cell_type": "code",
   "execution_count": 119,
   "id": "d454783a",
   "metadata": {},
   "outputs": [
    {
     "name": "stdout",
     "output_type": "stream",
     "text": [
      "<tf.RaggedTensor [[0, 1, 2, 3], [4, 5], [6, 7, 8], [9]]>\n"
     ]
    }
   ],
   "source": [
    "ragged_t = tf.ragged.constant(ragged_list)\n",
    "\n",
    "print(ragged_t)"
   ]
  },
  {
   "cell_type": "markdown",
   "id": "d30f2c49",
   "metadata": {},
   "source": [
    "Tensores de strings"
   ]
  },
  {
   "cell_type": "code",
   "execution_count": 120,
   "id": "8246c983",
   "metadata": {},
   "outputs": [
    {
     "name": "stdout",
     "output_type": "stream",
     "text": [
      "tf.Tensor([b'Este tensor string' b'Cadena 2' b'Cadena 3' b'\\xf0\\x9f\\xa5\\xb3'], shape=(4,), dtype=string)\n"
     ]
    }
   ],
   "source": [
    "\n",
    "st = tf.constant([\"Este tensor string\",\n",
    "                 \"Cadena 2\",\n",
    "                 \"Cadena 3\",\n",
    "                 \"🥳\"])\n",
    "print(st)"
   ]
  },
  {
   "cell_type": "code",
   "execution_count": 121,
   "id": "3d801678",
   "metadata": {},
   "outputs": [
    {
     "name": "stdout",
     "output_type": "stream",
     "text": [
      "tf.Tensor([b'Este' b'tensor' b'string'], shape=(3,), dtype=string)\n",
      "tf.Tensor([b'Cadena' b'2'], shape=(2,), dtype=string)\n",
      "tf.Tensor([b'Cadena' b'3'], shape=(2,), dtype=string)\n",
      "tf.Tensor([b'\\xf0\\x9f\\xa5\\xb3'], shape=(1,), dtype=string)\n"
     ]
    }
   ],
   "source": [
    "\n",
    "st_split = tf.strings.split(st)\n",
    "for i in st_split:\n",
    "    print(i)"
   ]
  },
  {
   "cell_type": "markdown",
   "id": "45ccf061",
   "metadata": {},
   "source": [
    "Tensor disperso"
   ]
  },
  {
   "cell_type": "code",
   "execution_count": 122,
   "id": "dce5c76d",
   "metadata": {},
   "outputs": [
    {
     "name": "stdout",
     "output_type": "stream",
     "text": [
      "SparseTensor(indices=tf.Tensor(\n",
      "[[0 1]\n",
      " [1 2]], shape=(2, 2), dtype=int64), values=tf.Tensor([1 2], shape=(2,), dtype=int32), dense_shape=tf.Tensor([3 4], shape=(2,), dtype=int64)) \n",
      "\n",
      "tf.Tensor(\n",
      "[[0 1 0 0]\n",
      " [0 0 2 0]\n",
      " [0 0 0 0]], shape=(3, 4), dtype=int32)\n"
     ]
    }
   ],
   "source": [
    "sparse_tensor = tf.sparse.SparseTensor(indices = [[0,1], [1,2]],\n",
    "                                       values = [1,2],\n",
    "                                       dense_shape\n",
    "                                        =[3,4])\n",
    "print(sparse_tensor, \"\\n\")\n",
    "\n",
    "# convierte a tensor denso\n",
    "print(tf.sparse.to_dense(sparse_tensor))"
   ]
  },
  {
   "cell_type": "code",
   "execution_count": null,
   "id": "bc1c9696",
   "metadata": {},
   "outputs": [],
   "source": []
  },
  {
   "cell_type": "code",
   "execution_count": null,
   "id": "6f7e5b8b",
   "metadata": {},
   "outputs": [],
   "source": []
  },
  {
   "cell_type": "code",
   "execution_count": null,
   "id": "e1caa05a",
   "metadata": {},
   "outputs": [],
   "source": []
  },
  {
   "cell_type": "code",
   "execution_count": null,
   "id": "95ccab51",
   "metadata": {},
   "outputs": [],
   "source": []
  },
  {
   "cell_type": "code",
   "execution_count": null,
   "id": "2864ce73",
   "metadata": {},
   "outputs": [],
   "source": []
  }
 ],
 "metadata": {
  "kernelspec": {
   "display_name": "Python 3",
   "language": "python",
   "name": "python3"
  },
  "language_info": {
   "codemirror_mode": {
    "name": "ipython",
    "version": 3
   },
   "file_extension": ".py",
   "mimetype": "text/x-python",
   "name": "python",
   "nbconvert_exporter": "python",
   "pygments_lexer": "ipython3",
   "version": "3.7.9"
  }
 },
 "nbformat": 4,
 "nbformat_minor": 5
}
